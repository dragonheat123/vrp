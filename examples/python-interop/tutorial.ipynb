{
 "cells": [
  {
   "cell_type": "markdown",
   "metadata": {},
   "source": [
    "# Interactive tutorial\n",
    "\n",
    "Intention of this tutorial, written as jupyter notebook, is to provide a quick interactive introduction how to use `vrp_cli` package published in [pypi registry](https://pypi.org/project/vrp-cli/). This package provides a basic API to solve rich `Vehicle Routing Problems` using [pragmatic format](https://reinterpretcat.github.io/vrp/concepts/pragmatic/index.html)."
   ]
  },
  {
   "cell_type": "markdown",
   "metadata": {},
   "source": [
    "## Dependencies\n",
    "\n",
    "This section explains how to get required dependencies on your local environment (tested with Python 3.10).\n",
    "\n",
    "### Install package dependencies\n",
    "\n",
    "First, we need to install helper dependencies for modeling an input (a VRP `Problem`) and output (a VRP `Solution`) using strictly typed models:\n",
    "\n",
    "```bash\n",
    "pip install pydantic typing dataclasses\n",
    "```\n",
    "\n",
    "Next, install the latest version of the library (`1.22.0` as time of writting)\n",
    "```bash\n",
    "pip install vrp-cli\n",
    "```\n",
    "\n",
    "### Get example models\n",
    "\n",
    "At the moment, `vrp_cli` package doesn't include models for `pragmatic` format used in rust code natively. This is possible to do, but would require some work (see [#125](https://github.com/reinterpretcat/vrp/issues/125) for tracking the issue). So, the current solution is to prepare them in a semi-automated way with help of external libraries such as `pydantic`. \n",
    "\n",
    "Let's start by importing the models from a local folder (or from [remote](https://github.com/reinterpretcat/vrp/tree/master/examples/python-interop)):"
   ]
  },
  {
   "cell_type": "code",
   "execution_count": 1,
   "metadata": {},
   "outputs": [],
   "source": [
    "import pragmatic_types as prg\n",
    "import config_types as cfg"
   ]
  },
  {
   "cell_type": "markdown",
   "metadata": {},
   "source": [
    "Please note, that imported python models are not yet fully complete, but this can be tweaked when necessary to have feature parity with the solver features."
   ]
  },
  {
   "cell_type": "markdown",
   "metadata": {},
   "source": [
    "## Modeling a VRP problem\n",
    "\n",
    "Next step is to dig into the core concepts which are used to model VRP problem. \n",
    "\n",
    "Here, each problem consists of a `Plan` and a `Fleet`. A `Plan` specifies the work which should be done defined as a list of one or more `Job`s. A `Fleet` specifies actual workers which are responsible for jobs to be completed. It consists of one or more `VehicleType`s. \n",
    "\n",
    "Let's look at jobs and vehicle types a bit closer.\n",
    "\n",
    "### Job\n",
    "\n",
    "Each job is represented by:\n",
    "\n",
    "- unique `id`\n",
    "- one or multiple `JobTask`s inside `pickups` or `deliveries` properties (actually, more is supported, but it is out of scope for the tutorial)\n",
    "\n",
    "Essentially, each job task specifies a unit of work to be done at specific place and, optionally, time. Depending on how job tasks are specified, we can identify three general job types:\n",
    "\n",
    "- `pickup` job\n",
    "- `delivery` job\n",
    "- `multi` job"
   ]
  },
  {
   "cell_type": "markdown",
   "metadata": {},
   "source": [
    "#### Pickup job\n",
    "\n",
    "When a job has only one pickup defined as a job task, then it is considered as a `pickup` job. Here is a definition of a trivial pickup job:"
   ]
  },
  {
   "cell_type": "code",
   "execution_count": 2,
   "metadata": {},
   "outputs": [],
   "source": [
    "pickup_job = prg.Job(\n",
    "    id='pickup_job',\n",
    "    pickups=[\n",
    "        prg.JobTask(\n",
    "            places=[\n",
    "                prg.JobPlace(\n",
    "                    location=prg.Location(lat=52.5225, lng=13.4095),\n",
    "                    duration=240,\n",
    "                    times=[['2024-07-04T10:00:00Z', '2024-07-04T16:00:00Z']]\n",
    "                )\n",
    "            ],\n",
    "            demand=[1]\n",
    "        )\n",
    "    ]\n",
    ")"
   ]
  },
  {
   "cell_type": "markdown",
   "metadata": {},
   "source": [
    "Logically, the vehicle picks some package at pickup locations (here, it is (52.5225, 13.4095)), which leads to capacity growth according to job.pickups.demand value (respectively, 1 abstract unit), and brings it till the end of the tour.\n",
    "\n",
    "Here, additionally it has:\n",
    "- duration (service time): 240 seconds\n",
    "- a single time window from `2024-07-04T10:00:00Z` to `2024-07-04T16:00:00Z`\n",
    "\n",
    "Please note, that we specified just one `JobPlace`, but it is possible to specify many. When many job places are specified, each of them is considered as an alternative and only one will be selected depending on efficiency (typically, specified by objective function). See [documentation](https://reinterpretcat.github.io/vrp/concepts/pragmatic/problem/jobs.html#places) for more details."
   ]
  },
  {
   "cell_type": "markdown",
   "metadata": {},
   "source": [
    "#### Delivery job\n",
    "\n",
    "When a job has only one delivery defined as a job task, then it is considered as a `delivery` job. Here is a definition of a such trivial delivery job:\n"
   ]
  },
  {
   "cell_type": "code",
   "execution_count": 3,
   "metadata": {},
   "outputs": [],
   "source": [
    "delivery_job = prg.Job(\n",
    "    id='delivery_job',\n",
    "    deliveries=[\n",
    "        prg.JobTask(\n",
    "            places=[\n",
    "                prg.JobPlace(\n",
    "                    location=prg.Location(lat=52.52599, lng=13.45413),\n",
    "                    duration=300,\n",
    "                    times=[['2024-07-04T09:00:00Z', '2024-07-04T18:00:00Z']]\n",
    "                ),\n",
    "            ],\n",
    "            demand=[1]\n",
    "        )\n",
    "    ]\n",
    ")"
   ]
  },
  {
   "cell_type": "markdown",
   "metadata": {},
   "source": [
    "Logically, the vehicle picks some parcel at the start stop, which leads to initial capacity growth, and brings it to job's locations,\n",
    "where capacity is decreased based on `job.deliveries.demand` values.\n",
    "\n",
    "Besides `deliveries` property name, the definition looks exactly the same as for pickup job."
   ]
  },
  {
   "cell_type": "markdown",
   "metadata": {},
   "source": [
    "#### Multi-job\n",
    "\n",
    "A multi job is a job with both `job.pickups` and `job.deliveries` properties specified. The simplest example is when only one pickup and one delivery is specified:"
   ]
  },
  {
   "cell_type": "code",
   "execution_count": 4,
   "metadata": {},
   "outputs": [],
   "source": [
    "multi_job = prg.Job(\n",
    "    id=\"multi_job\",\n",
    "    pickups=[\n",
    "        prg.JobTask(\n",
    "            places=[\n",
    "                prg.JobPlace(\n",
    "                    location=prg.Location(lat=52.5225, lng=13.4095),\n",
    "                    duration=300\n",
    "                )\n",
    "            ],\n",
    "            demand=[1]\n",
    "        )\n",
    "    ],\n",
    "    deliveries=[\n",
    "        prg.JobTask(\n",
    "            places=[\n",
    "                prg.JobPlace(\n",
    "                    location=prg.Location(lat=52.5165, lng=13.3808),\n",
    "                    duration=300\n",
    "                ),\n",
    "            ],\n",
    "            demand=[1]\n",
    "        )\n",
    "    ]\n",
    ")\n"
   ]
  },
  {
   "cell_type": "markdown",
   "metadata": {},
   "source": [
    "Logically, the vehicle picks some parcel at pickup location and brings it to delivery location. Such jobs have the following rules:\n",
    "\n",
    "- all pickup/delivery tasks should be done or none of them\n",
    "- assignment order is not defined except all pickups should be assigned before any of deliveries\n",
    "- sum of pickup demand should be equal to sum of delivery demand"
   ]
  },
  {
   "cell_type": "markdown",
   "metadata": {},
   "source": [
    "### Vehicle\n",
    "\n",
    "Once jobs are specified, the next step is to define vehicles used. Each vehicle belongs to a specific `VehicleType`, so we need to specify one:"
   ]
  },
  {
   "cell_type": "code",
   "execution_count": 5,
   "metadata": {},
   "outputs": [],
   "source": [
    "vehicle_type = prg.VehicleType(\n",
    "    typeId='vehicle',\n",
    "    vehicleIds=['vehicle_1'],\n",
    "    profile=prg.VehicleProfile(matrix='normal_car'),\n",
    "    costs=prg.VehicleCosts(fixed=22, distance=0.0002, time=0.005),\n",
    "    shifts=[\n",
    "        prg.VehicleShift(\n",
    "            start=prg.VehicleShiftStart(\n",
    "                earliest=\"2024-07-04T09:00:00Z\",\n",
    "                location=prg.Location(lat=52.5316, lng=13.3884),\n",
    "            ),\n",
    "            end=prg.VehicleShiftEnd(\n",
    "                latest=\"2024-07-04T18:00:00Z\",\n",
    "                location=prg.Location(lat=52.5316, lng=13.3884),\n",
    "            )\n",
    "        )\n",
    "    ],\n",
    "    capacity=[10]\n",
    ")"
   ]
  },
  {
   "cell_type": "markdown",
   "metadata": {},
   "source": [
    "Quick summary of the properties above:\n",
    "- `typeId`: a unique vehicle type id. Think about it as an class type in programming languages (Java, C#, C++, etc.).\n",
    "- `vehicleIds`: a list of unique vehicle ids. Each type can have more than one vehicle ids. This is similar to concrete instances of a specific class type\n",
    "- `profile`: a reference to routing matrix profile with name `normal_car`. Will be covered in next session\n",
    "- `costs`: specifies distance/duration costs per meter/second and a fixed cost, applied once per tour (see below).\n",
    "    Depending on your goal of optimization, you can put a different ratio between distance/duration costs (or use different objectives which is more [advanced topic](https://reinterpretcat.github.io/vrp/concepts/pragmatic/problem/objectives.html))\n",
    "- `shifts`: specifies where and when vehicle starts and ends. End is optional to model Open VRP variant\n",
    "- `capacity`: specifies vehicle's capacity to handle job's demand"
   ]
  },
  {
   "cell_type": "markdown",
   "metadata": {},
   "source": [
    "### Routing data\n",
    "\n",
    "The last step in modeling VRP problem is to define how routing data, distance/duration between any two locations, is supplied to the solver. The solver uses concept of `RoutingProfile` which is used as a reference to supplied routing data.\n",
    "\n",
    "\n",
    "#### Routing profile\n",
    "\n",
    "For our example, the routing profile can be defined the following way:"
   ]
  },
  {
   "cell_type": "code",
   "execution_count": 6,
   "metadata": {},
   "outputs": [],
   "source": [
    "profile = prg.RoutingProfile(name='normal_car')"
   ]
  },
  {
   "cell_type": "markdown",
   "metadata": {},
   "source": [
    "### Routing matrix\n",
    "\n",
    "A routing matrix constains information about duration and distance between any of two locations. Both durations and distances are mapped to the list of unique locations generated from the problem definition. In this list, locations are specified in the order they defined. For example, if you have two jobs with locations A and B, one vehicle type with depot location C, then you have the following location list: A,B,C. It corresponds to the matrix (durations or distances):\n",
    "\n",
    "\n",
    "|    |    |    |\n",
    "|----|----|----|\n",
    "|  0 | AB | AC |\n",
    "| BA |  0 | BC |\n",
    "| CA | CB |  0 |\n",
    "\n",
    "where\n",
    "- `0`: zero duration or distance\n",
    "- `XY`: distance or duration from X location to Y\n",
    "\n",
    "As single dimensional array it looks like:\n",
    "\n",
    "    [0,AB,AC,BA,0,BC,CA,CB,0]\n",
    "\n",
    "As we 4 unique locations in our problem definition (note that `pickup_job` and `multi_job` are sharing the same location), we need to have a matrix which contains duration and distance arrays with 16 items in each:"
   ]
  },
  {
   "cell_type": "code",
   "execution_count": 7,
   "metadata": {},
   "outputs": [],
   "source": [
    "matrix = prg.RoutingMatrix(\n",
    "    profile='normal_car',\n",
    "    durations=[0, 609, 981, 906, 813, 0, 371, 590, 1055, 514, 0, 439, 948, 511, 463, 0],\n",
    "    distances=[0, 3840, 5994, 5333, 4696, 0, 2154, 3226, 5763, 2674, 0, 2145, 5112, 2470, 2152, 0]\n",
    ")"
   ]
  },
  {
   "cell_type": "markdown",
   "metadata": {},
   "source": [
    "Please refer to [routing format](https://reinterpretcat.github.io/vrp/concepts/pragmatic/routing/format.html) documentation for more details.\n",
    "\n",
    "**NOTE**: alternatively, the solver supports distance/duration approximation with help of Haversine formula in case of no routing matrix available. This could be useful for algorithm testing and/or prototyping."
   ]
  },
  {
   "cell_type": "markdown",
   "metadata": {},
   "source": [
    "## Configuration\n",
    "\n",
    "The last step, before we can run the solver, is to configure solver how long it should be run, what kind of logging details we want to have, etc. Such settings are passed via `Config`: "
   ]
  },
  {
   "cell_type": "code",
   "execution_count": 8,
   "metadata": {},
   "outputs": [],
   "source": [
    "config = cfg.Config(\n",
    "    termination=cfg.Termination(\n",
    "        maxTime=1,\n",
    "        maxGenerations=3000\n",
    "    )\n",
    ")"
   ]
  },
  {
   "cell_type": "markdown",
   "metadata": {},
   "source": [
    "Here, we specify maximum running time (1 second) and maximum amount of generations (or iterations, 3000). Actual values depend on problem size, variant and your hardware."
   ]
  },
  {
   "cell_type": "markdown",
   "metadata": {},
   "source": [
    "## Run the solver\n",
    "\n",
    "Now, it's time to combine all pieces together. First, let's create a `Problem` definition using jobs, vehicle and profile definitions from above:"
   ]
  },
  {
   "cell_type": "code",
   "execution_count": 9,
   "metadata": {},
   "outputs": [],
   "source": [
    "problem = prg.Problem(\n",
    "    plan=prg.Plan(\n",
    "        jobs=[delivery_job, pickup_job, multi_job]\n",
    "    ),\n",
    "    fleet=prg.Fleet(\n",
    "        vehicles=[vehicle_type],\n",
    "        profiles=[profile]\n",
    "    )\n",
    ")"
   ]
  },
  {
   "cell_type": "markdown",
   "metadata": {},
   "source": [
    "Now, we're ready to run the solver using vrp-cli's `solve_pragmatic` function which requires models serialized as json strings (a subject for improvement, see [this ticket](https://github.com/reinterpretcat/vrp/issues/125)). So, we import necessary modules and run the solver:"
   ]
  },
  {
   "cell_type": "code",
   "execution_count": 10,
   "metadata": {},
   "outputs": [
    {
     "name": "stdout",
     "output_type": "stream",
     "text": [
      "configured to use max-generations: 3000\n",
      "configured to use max-time: 1s\n",
      "configured to use custom heuristic\n",
      "total jobs: 3, actors: 1\n",
      "preparing initial solution(-s)\n",
      "[0s] created initial solution in 0ms, fitness: (0.000, 1.000, 47.551)\n",
      "[0s] created initial solution in 0ms, fitness: (0.000, 1.000, 47.551)\n",
      "[0s] created initial solution in 0ms, fitness: (0.000, 1.000, 47.551)\n",
      "[0s] created initial solution in 0ms, fitness: (0.000, 1.000, 47.551)\n",
      "created initial population in 1ms\n",
      "[0s] generation 0 took 0ms, median: 0ms fitness: (0.000, 1.000, 47.551)\n",
      "[0s] population state (phase: initial, speed: 0.00 gen/sec, improvement ratio: 0.000:0.000):\n",
      "\trank: 0, fitness: (0.000, 1.000, 47.551), difference: 0.000%\n",
      "[0s] generation 100 took 0ms, median: 0ms fitness: (0.000, 1.000, 42.185)\n",
      "[0s] generation 200 took 0ms, median: 0ms fitness: (0.000, 1.000, 42.185)\n",
      "[0s] generation 300 took 0ms, median: 0ms fitness: (0.000, 1.000, 42.185)\n",
      "[0s] generation 400 took 0ms, median: 0ms fitness: (0.000, 1.000, 42.185)\n",
      "[0s] generation 500 took 0ms, median: 0ms fitness: (0.000, 1.000, 42.185)\n",
      "[0s] generation 600 took 0ms, median: 0ms fitness: (0.000, 1.000, 42.185)\n",
      "[0s] generation 700 took 0ms, median: 0ms fitness: (0.000, 1.000, 42.185)\n",
      "[0s] generation 800 took 0ms, median: 1ms fitness: (0.000, 1.000, 42.185)\n",
      "[0s] generation 900 took 0ms, median: 0ms fitness: (0.000, 1.000, 42.185)\n",
      "[0s] generation 1000 took 0ms, median: 0ms fitness: (0.000, 1.000, 42.185)\n",
      "[0s] population state (phase: exploration, speed: 2451.85 gen/sec, improvement ratio: 0.002:0.002):\n",
      "\trank: 0, fitness: (0.000, 1.000, 42.185), difference: 0.000%\n",
      "\trank: 1, fitness: (0.000, 1.000, 46.261), difference: 0.088%\n",
      "[0s] generation 1100 took 0ms, median: 0ms fitness: (0.000, 1.000, 42.185)\n",
      "[0s] generation 1200 took 0ms, median: 0ms fitness: (0.000, 1.000, 42.185)\n",
      "[0s] generation 1300 took 0ms, median: 0ms fitness: (0.000, 1.000, 42.185)\n",
      "[0s] generation 1400 took 0ms, median: 0ms fitness: (0.000, 1.000, 42.185)\n",
      "[0s] generation 1500 took 0ms, median: 0ms fitness: (0.000, 1.000, 42.185)\n",
      "[0s] generation 1600 took 0ms, median: 0ms fitness: (0.000, 1.000, 42.185)\n",
      "[0s] generation 1700 took 0ms, median: 0ms fitness: (0.000, 1.000, 42.185)\n",
      "[0s] generation 1800 took 0ms, median: 0ms fitness: (0.000, 1.000, 42.185)\n",
      "[0s] generation 1900 took 0ms, median: 0ms fitness: (0.000, 1.000, 42.185)\n",
      "[0s] generation 2000 took 0ms, median: 0ms fitness: (0.000, 1.000, 42.185)\n",
      "[0s] population state (phase: exploration, speed: 2688.78 gen/sec, improvement ratio: 0.001:0.000):\n",
      "\trank: 0, fitness: (0.000, 1.000, 42.185), difference: 0.000%\n",
      "\trank: 1, fitness: (0.000, 1.000, 46.261), difference: 0.088%\n",
      "[0s] generation 2100 took 0ms, median: 0ms fitness: (0.000, 1.000, 42.185)\n",
      "[0s] generation 2200 took 0ms, median: 0ms fitness: (0.000, 1.000, 42.185)\n",
      "[0s] generation 2300 took 0ms, median: 0ms fitness: (0.000, 1.000, 42.185)\n",
      "[0s] generation 2400 took 0ms, median: 0ms fitness: (0.000, 1.000, 42.185)\n",
      "[0s] generation 2500 took 0ms, median: 0ms fitness: (0.000, 1.000, 42.185)\n",
      "[0s] generation 2600 took 0ms, median: 0ms fitness: (0.000, 1.000, 42.185)\n",
      "[0s] generation 2700 took 0ms, median: 0ms fitness: (0.000, 1.000, 42.185)\n",
      "[0s] generation 2800 took 0ms, median: 0ms fitness: (0.000, 1.000, 42.185)\n",
      "[0s] generation 2900 took 0ms, median: 0ms fitness: (0.000, 1.000, 42.185)\n",
      "\n",
      "[0s] population state (phase: exploitation, speed: 2998.89 gen/sec, improvement ratio: 0.001:0.000):\n",
      "\trank: 0, fitness: (0.000, 1.000, 42.185), difference: 0.000%\n",
      "\trank: 1, fitness: (0.000, 1.000, 46.261), difference: 0.088%\n",
      "[0s] total generations: 2998, speed: 2998.86 gen/sec\n"
     ]
    }
   ],
   "source": [
    "import vrp_cli\n",
    "import json\n",
    "from pydantic.json import pydantic_encoder\n",
    "\n",
    "solution_json = vrp_cli.solve_pragmatic(\n",
    "    problem=json.dumps(problem, default=pydantic_encoder),\n",
    "    matrices=[json.dumps(matrix, default=pydantic_encoder)],\n",
    "    config=json.dumps(config, default=pydantic_encoder),\n",
    ")"
   ]
  },
  {
   "cell_type": "markdown",
   "metadata": {},
   "source": [
    "**NOTE**: if you have changed amount of jobs tasks and/or vehicle types and left matrix definition without necessary changes, then simply pass an empty array to `matrices` property to use an approximation fallback functionality. Otherwise, you will get an error as dimension of matrix won't match amount of unique locations in the problem definition.\n",
    "\n",
    "As you can see, by default some logging about search progression is enabled. The function returns a `Solution`, serialized as json string. To get it as an typed object, we can simply run deseriazer:"
   ]
  },
  {
   "cell_type": "code",
   "execution_count": 11,
   "metadata": {},
   "outputs": [
    {
     "data": {
      "text/plain": [
       "Solution(statistic=Statistic(cost=42.185199999999995, distance=13251, duration=3507, times=Times(driving=2367, serving=1140, waiting=0, commuting=0, parking=0)), tours=[Tour(vehicleId='vehicle_1', typeId='vehicle', shiftIndex=0, stops=[Stop(location=Location(lat=52.5316, lng=13.3884), time=Schedule(arrival=datetime.datetime(2024, 7, 4, 9, 0, tzinfo=datetime.timezone.utc), departure=datetime.datetime(2024, 7, 4, 9, 29, 3, tzinfo=datetime.timezone.utc)), distance=0, load=[1], activities=[Activity(jobId='departure', type='departure', location=None, time=None, jobTag=None)]), Stop(location=Location(lat=52.52599, lng=13.45413), time=Schedule(arrival=datetime.datetime(2024, 7, 4, 9, 44, 51, tzinfo=datetime.timezone.utc), departure=datetime.datetime(2024, 7, 4, 9, 49, 51, tzinfo=datetime.timezone.utc)), distance=5112, load=[0], activities=[Activity(jobId='delivery_job', type='delivery', location=None, time=None, jobTag=None)]), Stop(location=Location(lat=52.5225, lng=13.4095), time=Schedule(arrival=datetime.datetime(2024, 7, 4, 10, 0, tzinfo=datetime.timezone.utc), departure=datetime.datetime(2024, 7, 4, 10, 9, tzinfo=datetime.timezone.utc)), distance=8952, load=[2], activities=[Activity(jobId='pickup_job', type='pickup', location=Location(lat=52.5225, lng=13.4095), time=Time(start=datetime.datetime(2024, 7, 4, 10, 0, tzinfo=datetime.timezone.utc), end=datetime.datetime(2024, 7, 4, 10, 4, tzinfo=datetime.timezone.utc)), jobTag=None), Activity(jobId='multi_job', type='pickup', location=Location(lat=52.5225, lng=13.4095), time=Time(start=datetime.datetime(2024, 7, 4, 10, 4, tzinfo=datetime.timezone.utc), end=datetime.datetime(2024, 7, 4, 10, 9, tzinfo=datetime.timezone.utc)), jobTag=None)]), Stop(location=Location(lat=52.5165, lng=13.3808), time=Schedule(arrival=datetime.datetime(2024, 7, 4, 10, 15, 11, tzinfo=datetime.timezone.utc), departure=datetime.datetime(2024, 7, 4, 10, 20, 11, tzinfo=datetime.timezone.utc)), distance=11106, load=[1], activities=[Activity(jobId='multi_job', type='delivery', location=None, time=None, jobTag=None)]), Stop(location=Location(lat=52.5316, lng=13.3884), time=Schedule(arrival=datetime.datetime(2024, 7, 4, 10, 27, 30, tzinfo=datetime.timezone.utc), departure=datetime.datetime(2024, 7, 4, 10, 27, 30, tzinfo=datetime.timezone.utc)), distance=13251, load=[0], activities=[Activity(jobId='arrival', type='arrival', location=None, time=None, jobTag=None)])], statistic=Statistic(cost=42.185199999999995, distance=13251, duration=3507, times=Times(driving=2367, serving=1140, waiting=0, commuting=0, parking=0)))])"
      ]
     },
     "execution_count": 11,
     "metadata": {},
     "output_type": "execute_result"
    }
   ],
   "source": [
    "solution = prg.Solution(**json.loads(solution_json))\n",
    "\n",
    "solution"
   ]
  },
  {
   "cell_type": "markdown",
   "metadata": {},
   "source": [
    "Essentially, a `Solution` entity is represented by list of tours and overall `Statistic`. Each tour has its own statistic and list of tours. More information about solution structure can be found [here](https://reinterpretcat.github.io/vrp/concepts/pragmatic/solution/index.html)."
   ]
  }
 ],
 "metadata": {
  "kernelspec": {
   "display_name": "Python 3",
   "language": "python",
   "name": "python3"
  },
  "language_info": {
   "codemirror_mode": {
    "name": "ipython",
    "version": 3
   },
   "file_extension": ".py",
   "mimetype": "text/x-python",
   "name": "python",
   "nbconvert_exporter": "python",
   "pygments_lexer": "ipython3",
   "version": "3.10.12"
  },
  "orig_nbformat": 4
 },
 "nbformat": 4,
 "nbformat_minor": 2
}
